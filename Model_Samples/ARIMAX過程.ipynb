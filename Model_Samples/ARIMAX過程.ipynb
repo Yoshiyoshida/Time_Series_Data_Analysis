{
 "cells": [
  {
   "cell_type": "markdown",
   "metadata": {},
   "source": [
    "# ARIMAX\n",
    "- ARIMA with eXogenous variables model\n",
    "- 外生変数が入ったARIMAモデル\n",
    "- ex) ビールの売り上げなどのデータはもちろん、トレンドや季節性の影響を受けることはわかるが、各地でのイベントやプロモ、販促などの短期的な影響も受けることがある。そのデータを説明変数として**回帰項として式に加える**"
   ]
  },
  {
   "cell_type": "markdown",
   "metadata": {},
   "source": [
    "- 時点tにおけるk番目のd説明変数を$$χ_{k, t}$$とおく\n",
    "- **ARIMAX(p , 0, q)**\n",
    "\n",
    "$$\n",
    "y_t = c + ∑_{i=1} φ_{i}y_{y-i} + ε_t + ∑_{j=1} θ_{j}ε_{t-j} + ∑_{k=1}β_k χ_{k, t}\n",
    "$$\n",
    "\n",
    "- d分の階差を取ることで、ARIMAX(p, d, q)を推定できる"
   ]
  },
  {
   "cell_type": "code",
   "execution_count": null,
   "metadata": {},
   "outputs": [],
   "source": []
  }
 ],
 "metadata": {
  "kernelspec": {
   "display_name": "Python 3",
   "language": "python",
   "name": "python3"
  },
  "language_info": {
   "codemirror_mode": {
    "name": "ipython",
    "version": 3
   },
   "file_extension": ".py",
   "mimetype": "text/x-python",
   "name": "python",
   "nbconvert_exporter": "python",
   "pygments_lexer": "ipython3",
   "version": "3.6.5"
  },
  "latex_envs": {
   "LaTeX_envs_menu_present": true,
   "autoclose": false,
   "autocomplete": true,
   "bibliofile": "biblio.bib",
   "cite_by": "apalike",
   "current_citInitial": 1,
   "eqLabelWithNumbers": true,
   "eqNumInitial": 1,
   "hotkeys": {
    "equation": "Ctrl-E",
    "itemize": "Ctrl-I"
   },
   "labels_anchors": false,
   "latex_user_defs": false,
   "report_style_numbering": false,
   "user_envs_cfg": false
  },
  "toc": {
   "base_numbering": 1,
   "nav_menu": {},
   "number_sections": true,
   "sideBar": true,
   "skip_h1_title": false,
   "title_cell": "Table of Contents",
   "title_sidebar": "Contents",
   "toc_cell": false,
   "toc_position": {},
   "toc_section_display": true,
   "toc_window_display": false
  }
 },
 "nbformat": 4,
 "nbformat_minor": 2
}
